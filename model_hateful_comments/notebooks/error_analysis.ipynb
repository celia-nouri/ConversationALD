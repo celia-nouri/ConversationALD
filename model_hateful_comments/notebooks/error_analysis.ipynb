{
 "cells": [
  {
   "cell_type": "markdown",
   "metadata": {},
   "source": [
    "# Error analysis for Context-Aware ALD Models "
   ]
  },
  {
   "cell_type": "markdown",
   "metadata": {},
   "source": [
    "This notebook contrains the error and qualitative analysis for different models trained on CAD for Abusive Language Detection."
   ]
  },
  {
   "cell_type": "markdown",
   "metadata": {},
   "source": [
    "## Set up "
   ]
  },
  {
   "cell_type": "code",
   "execution_count": 2,
   "metadata": {},
   "outputs": [],
   "source": [
    "import pandas as pd\n",
    "import numpy as np\n",
    "import matplotlib.pyplot as plt\n",
    "import torch\n",
    "from torch.utils.data import Dataset\n",
    "import json\n",
    "import seaborn as sns\n",
    "import os \n",
    "import csv"
   ]
  },
  {
   "cell_type": "markdown",
   "metadata": {},
   "source": [
    "## Read output test file "
   ]
  },
  {
   "cell_type": "code",
   "execution_count": 23,
   "metadata": {},
   "outputs": [],
   "source": [
    "file_path = \"../../modernbert-class_cad_eval_test_outputs.jsonl\"\n"
   ]
  },
  {
   "cell_type": "code",
   "execution_count": 24,
   "metadata": {},
   "outputs": [],
   "source": [
    "# Open the jsonl file and read it line by line\n",
    "def get_error_stats(file_path):\n",
    "    true_predictions, tp, tn, false_predictions, fp, fn = 0, 0, 0, 0, 0, 0\n",
    "    model_pred_1, model_pred_0 = 0, 0\n",
    "    with open(file_path, 'r', encoding='utf-8') as file:\n",
    "        for line in file:\n",
    "            # Parse the JSON object from each line\n",
    "            json_obj = json.loads(line.strip())\n",
    "            if int(json_obj['pred_label']) == int(json_obj['y']):\n",
    "                true_predictions += 1\n",
    "                if int(json_obj['pred_label']) == 1:\n",
    "                    tp += 1\n",
    "                else:\n",
    "                    tn += 1\n",
    "            else:\n",
    "                false_predictions += 1\n",
    "                if int(json_obj['pred_label']) == 1:\n",
    "                    fp += 1\n",
    "                else:\n",
    "                    fn += 1\n",
    "            \n",
    "            if int(json_obj['pred_label']) == 1:\n",
    "                model_pred_1 += 1\n",
    "            else:\n",
    "                model_pred_0 += 1\n",
    "\n",
    "    return {\n",
    "        \"true_predictions\": true_predictions,\n",
    "        \"true_positives\": tp,\n",
    "        \"true_negatives\": tn,\n",
    "        \"false_predictions\": false_predictions,\n",
    "        \"false_positives\": fp,\n",
    "        \"false_negatives\": fn,\n",
    "        \"model_pred_1\": model_pred_1,\n",
    "        \"model_pred_0\": model_pred_0\n",
    "    }\n",
    "\n"
   ]
  },
  {
   "cell_type": "code",
   "execution_count": 25,
   "metadata": {},
   "outputs": [
    {
     "name": "stdout",
     "output_type": "stream",
     "text": [
      "Model:  bert-class\n",
      "Model:  modernbert-class\n",
      "Model:  bert-concat\n",
      "Model:  bertwithneighconcat\n",
      "Model:  gat-test\n",
      "Stats written to model_error_stats.csv\n"
     ]
    }
   ],
   "source": [
    "models = [\"bert-class\", \"modernbert-class\", \"bert-concat\", \"bertwithneighconcat\", \"gat-test\"]\n",
    "stats_list = []\n",
    "\n",
    "for model in models:\n",
    "    file_path = os.path.join(\"../..\", model + \"_cad_eval_test_outputs.jsonl\")\n",
    "    print(\"Model: \", model)\n",
    "    stats = get_error_stats(file_path)\n",
    "    stats[\"model\"] = model  # Add model name to the stats\n",
    "    stats_list.append(stats)\n",
    "\n",
    "# Write stats to a CSV file\n",
    "output_file = \"model_error_stats.csv\"\n",
    "with open(output_file, 'w', newline='', encoding='utf-8') as csvfile:\n",
    "    writer = csv.DictWriter(csvfile, fieldnames=[\n",
    "        \"model\", \"true_predictions\", \"true_positives\", \"true_negatives\",\n",
    "        \"false_predictions\", \"false_positives\", \"false_negatives\",\n",
    "        \"model_pred_1\", \"model_pred_0\"\n",
    "    ])\n",
    "    writer.writeheader()\n",
    "    writer.writerows(stats_list)\n",
    "\n",
    "print(f\"Stats written to {output_file}\")"
   ]
  },
  {
   "cell_type": "markdown",
   "metadata": {},
   "source": [
    "Get the correspondance between comment/post ids and graph files."
   ]
  },
  {
   "cell_type": "code",
   "execution_count": 6,
   "metadata": {},
   "outputs": [],
   "source": [
    "# output content of 100 first graph objetcs into the sample-reanno folder in data folder\n",
    "graph_input_dir = \"../../data/processed_graphs/processed/\"\n",
    "index_file = \"../../data/cad-test-idx-many.txt\"\n",
    "output_file = \"eval_set_output.csv\"\n",
    "output_dic = {}\n",
    "\n",
    "def extract_info_from_graph(index_file, output_file):\n",
    "    with open(output_file, mode='w', newline='', encoding='utf-8') as csv_file:\n",
    "        fieldnames = ['filename', 'id', 'reddit_url', 'label', 'anno_ctx', 'anno_tgt', 'anno_tgt_cat', 'body', 'index_in_conv', 'conv_len']\n",
    "        writer = csv.DictWriter(csv_file, fieldnames=fieldnames)\n",
    "        writer.writeheader()\n",
    "        with open(index_file, \"r\") as file:\n",
    "            indices = file.readlines()\n",
    "            indices = [int(index.strip()) for index in indices]\n",
    "            for index in indices:\n",
    "                input_file = f\"{graph_input_dir}graph-{index}.pt\"\n",
    "                try:\n",
    "                    # Load the.pt file\n",
    "                    graph = torch.load(input_file)\n",
    "                    true_index = [i for i in range(len(graph.y_mask)) if graph.y_mask[i] == True]\n",
    "                    assert len(true_index) == 1\n",
    "                    true_index = true_index[0]\n",
    "\n",
    "                    comment = graph.x_text[true_index]\n",
    "                    x, a2, a3, label = comment\n",
    "                    my_id = x.get('id', '')\n",
    "                    permalink = x.get('permalink', '')\n",
    "                    reddit_url = 'https://www.reddit.com' + permalink\n",
    "                    \n",
    "                    label = x.get('label', '')\n",
    "                    anno_ctx = x.get('anno_ctx', '')\n",
    "                    anno_tgt = x.get('anno_tgt', '')\n",
    "                    anno_tgt_cat = x.get('anno_tgt_cat', '')\n",
    "                    body = x.get('body', '')\n",
    "                    \n",
    "                    # Write to CSV\n",
    "                    writer.writerow({\n",
    "                        'filename': input_file,\n",
    "                        'id': my_id,\n",
    "                        'reddit_url': reddit_url,\n",
    "                        'label': label,\n",
    "                        'anno_ctx': anno_ctx,\n",
    "                        'anno_tgt': anno_tgt,\n",
    "                        'anno_tgt_cat': anno_tgt_cat,\n",
    "                        'body': body,\n",
    "                        'index_in_conv': true_index,\n",
    "                        'conv_len': len(graph.y_mask)\n",
    "                    })\n",
    "\n",
    "                    #target_comment = graph.x_text[true_index]\n",
    "                    #print(target_comment)\n",
    "\n",
    "\n",
    "                except FileNotFoundError:\n",
    "                    print(f\"File {input_file} not found.\")\n",
    "\n",
    "\n",
    "extract_info_from_graph(index_file, output_file)\n"
   ]
  },
  {
   "cell_type": "code",
   "execution_count": 4,
   "metadata": {},
   "outputs": [
    {
     "ename": "NameError",
     "evalue": "name 'indices' is not defined",
     "output_type": "error",
     "traceback": [
      "\u001b[0;31m---------------------------------------------------------------------------\u001b[0m",
      "\u001b[0;31mNameError\u001b[0m                                 Traceback (most recent call last)",
      "Cell \u001b[0;32mIn[4], line 15\u001b[0m\n\u001b[1;32m     12\u001b[0m writer\u001b[38;5;241m.\u001b[39mwriteheader()\n\u001b[1;32m     14\u001b[0m \u001b[38;5;66;03m# Loop over the files\u001b[39;00m\n\u001b[0;32m---> 15\u001b[0m \u001b[38;5;28;01mfor\u001b[39;00m _, i \u001b[38;5;129;01min\u001b[39;00m \u001b[38;5;28menumerate\u001b[39m(\u001b[43mindices\u001b[49m):\n\u001b[1;32m     16\u001b[0m     filename \u001b[38;5;241m=\u001b[39m \u001b[38;5;124mf\u001b[39m\u001b[38;5;124m\"\u001b[39m\u001b[38;5;124mgraph-\u001b[39m\u001b[38;5;132;01m{\u001b[39;00mi\u001b[38;5;132;01m}\u001b[39;00m\u001b[38;5;124m.jsonl\u001b[39m\u001b[38;5;124m\"\u001b[39m\n\u001b[1;32m     17\u001b[0m     filepath \u001b[38;5;241m=\u001b[39m os\u001b[38;5;241m.\u001b[39mpath\u001b[38;5;241m.\u001b[39mjoin(input_dir, filename)\n",
      "\u001b[0;31mNameError\u001b[0m: name 'indices' is not defined"
     ]
    }
   ],
   "source": [
    "import json\n",
    "import csv\n",
    "import os\n",
    "\n",
    "input_dir = \"../../data/sample-reanno/\"\n",
    "output_file = \"../../data/sample-reanno/eval_set_output.csv\"\n",
    "\n",
    "# Prepare the CSV file\n",
    "with open(output_file, mode='w', newline='', encoding='utf-8') as csv_file:\n",
    "    fieldnames = ['filename', 'reddit_url', 'index', 'label', 'anno_ctx', 'anno_tgt', 'anno_tgt_cat', 'body']\n",
    "    writer = csv.DictWriter(csv_file, fieldnames=fieldnames)\n",
    "    writer.writeheader()\n",
    "    \n",
    "    # Loop over the files\n",
    "    for _, i in enumerate(indices):\n",
    "        filename = f\"graph-{i}.jsonl\"\n",
    "        filepath = os.path.join(input_dir, filename)\n",
    "        if not os.path.exists(filepath):\n",
    "            print(f\"File {filepath} does not exist.\")\n",
    "            continue\n",
    "        \n",
    "        try:\n",
    "            with open(filepath, 'r', encoding='utf-8') as f:\n",
    "                lines = f.readlines()\n",
    "                if not lines:\n",
    "                    print(f\"No content in file {filepath}\")\n",
    "                    continue\n",
    "                \n",
    "                # First line is the index label\n",
    "                index_label_line = lines[0].strip()\n",
    "                index_label = int(index_label_line)\n",
    "                \n",
    "                # Remaining lines are JSON entries\n",
    "                json_entries = []\n",
    "                for line in lines[1:]:\n",
    "                    json_entry = json.loads(line.strip())\n",
    "                    json_entries.append(json_entry)\n",
    "                \n",
    "                if index_label >= len(json_entries):\n",
    "                    print(f\"Index label {index_label} out of range in file {filepath}\")\n",
    "                    continue\n",
    "                \n",
    "                selected_entry = json_entries[index_label]\n",
    "                \n",
    "                # Extract required fields\n",
    "                node_data = selected_entry[0]  # The first element of the list is the node data dict\n",
    "                \n",
    "                permalink = x.get('permalink', '')\n",
    "                reddit_url = 'https://www.reddit.com' + permalink\n",
    "                \n",
    "                label = x.get('label', '')\n",
    "                anno_ctx = x.get('anno_ctx', '')\n",
    "                anno_tgt = x.get('anno_tgt', '')\n",
    "                anno_tgt_cat = x.get('anno_tgt_cat', '')\n",
    "                body = x.get('body', '')\n",
    "                \n",
    "                # Write to CSV\n",
    "                writer.writerow({\n",
    "                    'filename': filename,\n",
    "                    'reddit_url': reddit_url,\n",
    "                    'index': index_label,\n",
    "                    'label': label,\n",
    "                    'anno_ctx': anno_ctx,\n",
    "                    'anno_tgt': anno_tgt,\n",
    "                    'anno_tgt_cat': anno_tgt_cat,\n",
    "                    'body': body\n",
    "                })\n",
    "                \n",
    "        except Exception as e:\n",
    "            print(f\"Error processing file {filepath}: {e}\")"
   ]
  },
  {
   "cell_type": "code",
   "execution_count": null,
   "metadata": {},
   "outputs": [],
   "source": []
  }
 ],
 "metadata": {
  "kernelspec": {
   "display_name": "hatedisc",
   "language": "python",
   "name": "python3"
  },
  "language_info": {
   "codemirror_mode": {
    "name": "ipython",
    "version": 3
   },
   "file_extension": ".py",
   "mimetype": "text/x-python",
   "name": "python",
   "nbconvert_exporter": "python",
   "pygments_lexer": "ipython3",
   "version": "3.8.19"
  }
 },
 "nbformat": 4,
 "nbformat_minor": 2
}
