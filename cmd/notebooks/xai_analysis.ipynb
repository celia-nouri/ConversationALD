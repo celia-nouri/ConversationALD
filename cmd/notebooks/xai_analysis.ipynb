{
 "cells": [
  {
   "cell_type": "code",
   "execution_count": 7,
   "metadata": {},
   "outputs": [
    {
     "name": "stdout",
     "output_type": "stream",
     "text": [
      "Requirement already satisfied: interpret-text in /Users/celianouri/anaconda3/envs/cv-proj/lib/python3.12/site-packages (0.1.3)\n",
      "Requirement already satisfied: numpy in /Users/celianouri/anaconda3/envs/cv-proj/lib/python3.12/site-packages (from interpret-text) (1.26.4)\n",
      "Requirement already satisfied: pandas in /Users/celianouri/anaconda3/envs/cv-proj/lib/python3.12/site-packages (from interpret-text) (1.5.3)\n",
      "Requirement already satisfied: pydantic in /Users/celianouri/anaconda3/envs/cv-proj/lib/python3.12/site-packages (from interpret-text) (2.8.0)\n",
      "Requirement already satisfied: spacy in /Users/celianouri/anaconda3/envs/cv-proj/lib/python3.12/site-packages (from interpret-text) (3.7.5)\n",
      "Requirement already satisfied: ipywidgets in /Users/celianouri/anaconda3/envs/cv-proj/lib/python3.12/site-packages (from interpret-text) (8.1.3)\n",
      "Requirement already satisfied: transformers==2.4.1 in /Users/celianouri/anaconda3/envs/cv-proj/lib/python3.12/site-packages (from interpret-text) (2.4.1)\n",
      "Requirement already satisfied: scipy in /Users/celianouri/anaconda3/envs/cv-proj/lib/python3.12/site-packages (from interpret-text) (1.13.1)\n",
      "Requirement already satisfied: scikit-learn in /Users/celianouri/anaconda3/envs/cv-proj/lib/python3.12/site-packages (from interpret-text) (1.4.2)\n",
      "Requirement already satisfied: tqdm in /Users/celianouri/anaconda3/envs/cv-proj/lib/python3.12/site-packages (from interpret-text) (4.66.4)\n",
      "Requirement already satisfied: torch in /Users/celianouri/anaconda3/envs/cv-proj/lib/python3.12/site-packages (from interpret-text) (2.3.1)\n",
      "Requirement already satisfied: pytorch-pretrained-bert in /Users/celianouri/anaconda3/envs/cv-proj/lib/python3.12/site-packages (from interpret-text) (0.6.2)\n",
      "Requirement already satisfied: cached-property in /Users/celianouri/anaconda3/envs/cv-proj/lib/python3.12/site-packages (from interpret-text) (1.5.2)\n",
      "Requirement already satisfied: interpret-community in /Users/celianouri/anaconda3/envs/cv-proj/lib/python3.12/site-packages (from interpret-text) (0.31.0)\n",
      "Requirement already satisfied: shap<=0.29.3,>=0.20.0 in /Users/celianouri/anaconda3/envs/cv-proj/lib/python3.12/site-packages (from interpret-text) (0.29.3)\n",
      "Requirement already satisfied: tokenizers==0.0.11 in /Users/celianouri/anaconda3/envs/cv-proj/lib/python3.12/site-packages (from transformers==2.4.1->interpret-text) (0.0.11)\n",
      "Requirement already satisfied: boto3 in /Users/celianouri/anaconda3/envs/cv-proj/lib/python3.12/site-packages (from transformers==2.4.1->interpret-text) (1.34.138)\n",
      "Requirement already satisfied: filelock in /Users/celianouri/anaconda3/envs/cv-proj/lib/python3.12/site-packages (from transformers==2.4.1->interpret-text) (3.14.0)\n",
      "Requirement already satisfied: requests in /Users/celianouri/anaconda3/envs/cv-proj/lib/python3.12/site-packages (from transformers==2.4.1->interpret-text) (2.32.3)\n",
      "Requirement already satisfied: regex!=2019.12.17 in /Users/celianouri/anaconda3/envs/cv-proj/lib/python3.12/site-packages (from transformers==2.4.1->interpret-text) (2024.5.15)\n",
      "Requirement already satisfied: sentencepiece in /Users/celianouri/anaconda3/envs/cv-proj/lib/python3.12/site-packages (from transformers==2.4.1->interpret-text) (0.2.0)\n",
      "Requirement already satisfied: sacremoses in /Users/celianouri/anaconda3/envs/cv-proj/lib/python3.12/site-packages (from transformers==2.4.1->interpret-text) (0.1.1)\n",
      "Requirement already satisfied: matplotlib in /Users/celianouri/anaconda3/envs/cv-proj/lib/python3.12/site-packages (from shap<=0.29.3,>=0.20.0->interpret-text) (3.9.0)\n",
      "Requirement already satisfied: ipython in /Users/celianouri/anaconda3/envs/cv-proj/lib/python3.12/site-packages (from shap<=0.29.3,>=0.20.0->interpret-text) (8.25.0)\n",
      "Requirement already satisfied: scikit-image in /Users/celianouri/anaconda3/envs/cv-proj/lib/python3.12/site-packages (from shap<=0.29.3,>=0.20.0->interpret-text) (0.24.0)\n",
      "Requirement already satisfied: ml-wrappers~=0.5.4 in /Users/celianouri/anaconda3/envs/cv-proj/lib/python3.12/site-packages (from interpret-community->interpret-text) (0.5.5)\n",
      "Requirement already satisfied: packaging in /Users/celianouri/anaconda3/envs/cv-proj/lib/python3.12/site-packages (from interpret-community->interpret-text) (24.0)\n",
      "Requirement already satisfied: raiutils~=0.4.0 in /Users/celianouri/anaconda3/envs/cv-proj/lib/python3.12/site-packages (from interpret-community->interpret-text) (0.4.2)\n",
      "Requirement already satisfied: interpret-core<=0.5.0,>=0.1.20 in /Users/celianouri/anaconda3/envs/cv-proj/lib/python3.12/site-packages (from interpret-community->interpret-text) (0.5.0)\n",
      "Requirement already satisfied: python-dateutil>=2.8.1 in /Users/celianouri/anaconda3/envs/cv-proj/lib/python3.12/site-packages (from pandas->interpret-text) (2.9.0.post0)\n",
      "Requirement already satisfied: pytz>=2020.1 in /Users/celianouri/anaconda3/envs/cv-proj/lib/python3.12/site-packages (from pandas->interpret-text) (2024.1)\n",
      "Requirement already satisfied: comm>=0.1.3 in /Users/celianouri/anaconda3/envs/cv-proj/lib/python3.12/site-packages (from ipywidgets->interpret-text) (0.2.2)\n",
      "Requirement already satisfied: traitlets>=4.3.1 in /Users/celianouri/anaconda3/envs/cv-proj/lib/python3.12/site-packages (from ipywidgets->interpret-text) (5.14.3)\n",
      "Requirement already satisfied: widgetsnbextension~=4.0.11 in /Users/celianouri/anaconda3/envs/cv-proj/lib/python3.12/site-packages (from ipywidgets->interpret-text) (4.0.11)\n",
      "Requirement already satisfied: jupyterlab-widgets~=3.0.11 in /Users/celianouri/anaconda3/envs/cv-proj/lib/python3.12/site-packages (from ipywidgets->interpret-text) (3.0.11)\n",
      "Requirement already satisfied: annotated-types>=0.4.0 in /Users/celianouri/anaconda3/envs/cv-proj/lib/python3.12/site-packages (from pydantic->interpret-text) (0.7.0)\n",
      "Requirement already satisfied: pydantic-core==2.20.0 in /Users/celianouri/anaconda3/envs/cv-proj/lib/python3.12/site-packages (from pydantic->interpret-text) (2.20.0)\n",
      "Requirement already satisfied: typing-extensions>=4.6.1 in /Users/celianouri/anaconda3/envs/cv-proj/lib/python3.12/site-packages (from pydantic->interpret-text) (4.12.2)\n",
      "Requirement already satisfied: sympy in /Users/celianouri/anaconda3/envs/cv-proj/lib/python3.12/site-packages (from torch->interpret-text) (1.12.1)\n",
      "Requirement already satisfied: networkx in /Users/celianouri/anaconda3/envs/cv-proj/lib/python3.12/site-packages (from torch->interpret-text) (3.3)\n",
      "Requirement already satisfied: jinja2 in /Users/celianouri/anaconda3/envs/cv-proj/lib/python3.12/site-packages (from torch->interpret-text) (3.1.4)\n",
      "Requirement already satisfied: fsspec in /Users/celianouri/anaconda3/envs/cv-proj/lib/python3.12/site-packages (from torch->interpret-text) (2024.3.1)\n",
      "Requirement already satisfied: joblib>=1.2.0 in /Users/celianouri/anaconda3/envs/cv-proj/lib/python3.12/site-packages (from scikit-learn->interpret-text) (1.4.0)\n",
      "Requirement already satisfied: threadpoolctl>=2.0.0 in /Users/celianouri/anaconda3/envs/cv-proj/lib/python3.12/site-packages (from scikit-learn->interpret-text) (2.2.0)\n",
      "Requirement already satisfied: spacy-legacy<3.1.0,>=3.0.11 in /Users/celianouri/anaconda3/envs/cv-proj/lib/python3.12/site-packages (from spacy->interpret-text) (3.0.12)\n",
      "Requirement already satisfied: spacy-loggers<2.0.0,>=1.0.0 in /Users/celianouri/anaconda3/envs/cv-proj/lib/python3.12/site-packages (from spacy->interpret-text) (1.0.5)\n",
      "Requirement already satisfied: murmurhash<1.1.0,>=0.28.0 in /Users/celianouri/anaconda3/envs/cv-proj/lib/python3.12/site-packages (from spacy->interpret-text) (1.0.10)\n",
      "Requirement already satisfied: cymem<2.1.0,>=2.0.2 in /Users/celianouri/anaconda3/envs/cv-proj/lib/python3.12/site-packages (from spacy->interpret-text) (2.0.8)\n",
      "Requirement already satisfied: preshed<3.1.0,>=3.0.2 in /Users/celianouri/anaconda3/envs/cv-proj/lib/python3.12/site-packages (from spacy->interpret-text) (3.0.9)\n",
      "Requirement already satisfied: thinc<8.3.0,>=8.2.2 in /Users/celianouri/anaconda3/envs/cv-proj/lib/python3.12/site-packages (from spacy->interpret-text) (8.2.5)\n",
      "Requirement already satisfied: wasabi<1.2.0,>=0.9.1 in /Users/celianouri/anaconda3/envs/cv-proj/lib/python3.12/site-packages (from spacy->interpret-text) (1.1.3)\n",
      "Requirement already satisfied: srsly<3.0.0,>=2.4.3 in /Users/celianouri/anaconda3/envs/cv-proj/lib/python3.12/site-packages (from spacy->interpret-text) (2.4.8)\n",
      "Requirement already satisfied: catalogue<2.1.0,>=2.0.6 in /Users/celianouri/anaconda3/envs/cv-proj/lib/python3.12/site-packages (from spacy->interpret-text) (2.0.10)\n",
      "Requirement already satisfied: weasel<0.5.0,>=0.1.0 in /Users/celianouri/anaconda3/envs/cv-proj/lib/python3.12/site-packages (from spacy->interpret-text) (0.4.1)\n",
      "Requirement already satisfied: typer<1.0.0,>=0.3.0 in /Users/celianouri/anaconda3/envs/cv-proj/lib/python3.12/site-packages (from spacy->interpret-text) (0.12.3)\n",
      "Requirement already satisfied: setuptools in /Users/celianouri/anaconda3/envs/cv-proj/lib/python3.12/site-packages (from spacy->interpret-text) (69.5.1)\n",
      "Requirement already satisfied: langcodes<4.0.0,>=3.2.0 in /Users/celianouri/anaconda3/envs/cv-proj/lib/python3.12/site-packages (from spacy->interpret-text) (3.4.0)\n",
      "Requirement already satisfied: decorator in /Users/celianouri/anaconda3/envs/cv-proj/lib/python3.12/site-packages (from ipython->shap<=0.29.3,>=0.20.0->interpret-text) (5.1.1)\n",
      "Requirement already satisfied: jedi>=0.16 in /Users/celianouri/anaconda3/envs/cv-proj/lib/python3.12/site-packages (from ipython->shap<=0.29.3,>=0.20.0->interpret-text) (0.19.1)\n",
      "Requirement already satisfied: matplotlib-inline in /Users/celianouri/anaconda3/envs/cv-proj/lib/python3.12/site-packages (from ipython->shap<=0.29.3,>=0.20.0->interpret-text) (0.1.7)\n",
      "Requirement already satisfied: prompt-toolkit<3.1.0,>=3.0.41 in /Users/celianouri/anaconda3/envs/cv-proj/lib/python3.12/site-packages (from ipython->shap<=0.29.3,>=0.20.0->interpret-text) (3.0.47)\n",
      "Requirement already satisfied: pygments>=2.4.0 in /Users/celianouri/anaconda3/envs/cv-proj/lib/python3.12/site-packages (from ipython->shap<=0.29.3,>=0.20.0->interpret-text) (2.18.0)\n",
      "Requirement already satisfied: stack-data in /Users/celianouri/anaconda3/envs/cv-proj/lib/python3.12/site-packages (from ipython->shap<=0.29.3,>=0.20.0->interpret-text) (0.6.3)\n",
      "Requirement already satisfied: pexpect>4.3 in /Users/celianouri/anaconda3/envs/cv-proj/lib/python3.12/site-packages (from ipython->shap<=0.29.3,>=0.20.0->interpret-text) (4.9.0)\n",
      "Requirement already satisfied: language-data>=1.2 in /Users/celianouri/anaconda3/envs/cv-proj/lib/python3.12/site-packages (from langcodes<4.0.0,>=3.2.0->spacy->interpret-text) (1.2.0)\n",
      "Requirement already satisfied: six>=1.5 in /Users/celianouri/anaconda3/envs/cv-proj/lib/python3.12/site-packages (from python-dateutil>=2.8.1->pandas->interpret-text) (1.16.0)\n",
      "Requirement already satisfied: charset-normalizer<4,>=2 in /Users/celianouri/anaconda3/envs/cv-proj/lib/python3.12/site-packages (from requests->transformers==2.4.1->interpret-text) (3.3.2)\n",
      "Requirement already satisfied: idna<4,>=2.5 in /Users/celianouri/anaconda3/envs/cv-proj/lib/python3.12/site-packages (from requests->transformers==2.4.1->interpret-text) (3.7)\n",
      "Requirement already satisfied: urllib3<3,>=1.21.1 in /Users/celianouri/anaconda3/envs/cv-proj/lib/python3.12/site-packages (from requests->transformers==2.4.1->interpret-text) (2.2.1)\n",
      "Requirement already satisfied: certifi>=2017.4.17 in /Users/celianouri/anaconda3/envs/cv-proj/lib/python3.12/site-packages (from requests->transformers==2.4.1->interpret-text) (2024.6.2)\n",
      "Requirement already satisfied: blis<0.8.0,>=0.7.8 in /Users/celianouri/anaconda3/envs/cv-proj/lib/python3.12/site-packages (from thinc<8.3.0,>=8.2.2->spacy->interpret-text) (0.7.11)\n",
      "Requirement already satisfied: confection<1.0.0,>=0.0.1 in /Users/celianouri/anaconda3/envs/cv-proj/lib/python3.12/site-packages (from thinc<8.3.0,>=8.2.2->spacy->interpret-text) (0.1.5)\n",
      "Requirement already satisfied: click>=8.0.0 in /Users/celianouri/anaconda3/envs/cv-proj/lib/python3.12/site-packages (from typer<1.0.0,>=0.3.0->spacy->interpret-text) (8.1.7)\n",
      "Requirement already satisfied: shellingham>=1.3.0 in /Users/celianouri/anaconda3/envs/cv-proj/lib/python3.12/site-packages (from typer<1.0.0,>=0.3.0->spacy->interpret-text) (1.5.4)\n",
      "Requirement already satisfied: rich>=10.11.0 in /Users/celianouri/anaconda3/envs/cv-proj/lib/python3.12/site-packages (from typer<1.0.0,>=0.3.0->spacy->interpret-text) (13.7.1)\n",
      "Requirement already satisfied: cloudpathlib<1.0.0,>=0.7.0 in /Users/celianouri/anaconda3/envs/cv-proj/lib/python3.12/site-packages (from weasel<0.5.0,>=0.1.0->spacy->interpret-text) (0.18.1)\n",
      "Requirement already satisfied: smart-open<8.0.0,>=5.2.1 in /Users/celianouri/anaconda3/envs/cv-proj/lib/python3.12/site-packages (from weasel<0.5.0,>=0.1.0->spacy->interpret-text) (7.0.4)\n",
      "Requirement already satisfied: botocore<1.35.0,>=1.34.138 in /Users/celianouri/anaconda3/envs/cv-proj/lib/python3.12/site-packages (from boto3->transformers==2.4.1->interpret-text) (1.34.138)\n",
      "Requirement already satisfied: jmespath<2.0.0,>=0.7.1 in /Users/celianouri/anaconda3/envs/cv-proj/lib/python3.12/site-packages (from boto3->transformers==2.4.1->interpret-text) (1.0.1)\n",
      "Requirement already satisfied: s3transfer<0.11.0,>=0.10.0 in /Users/celianouri/anaconda3/envs/cv-proj/lib/python3.12/site-packages (from boto3->transformers==2.4.1->interpret-text) (0.10.2)\n",
      "Requirement already satisfied: MarkupSafe>=2.0 in /Users/celianouri/anaconda3/envs/cv-proj/lib/python3.12/site-packages (from jinja2->torch->interpret-text) (2.1.5)\n",
      "Requirement already satisfied: contourpy>=1.0.1 in /Users/celianouri/anaconda3/envs/cv-proj/lib/python3.12/site-packages (from matplotlib->shap<=0.29.3,>=0.20.0->interpret-text) (1.2.1)\n",
      "Requirement already satisfied: cycler>=0.10 in /Users/celianouri/anaconda3/envs/cv-proj/lib/python3.12/site-packages (from matplotlib->shap<=0.29.3,>=0.20.0->interpret-text) (0.12.1)\n",
      "Requirement already satisfied: fonttools>=4.22.0 in /Users/celianouri/anaconda3/envs/cv-proj/lib/python3.12/site-packages (from matplotlib->shap<=0.29.3,>=0.20.0->interpret-text) (4.53.0)\n",
      "Requirement already satisfied: kiwisolver>=1.3.1 in /Users/celianouri/anaconda3/envs/cv-proj/lib/python3.12/site-packages (from matplotlib->shap<=0.29.3,>=0.20.0->interpret-text) (1.4.5)\n",
      "Requirement already satisfied: pillow>=8 in /Users/celianouri/anaconda3/envs/cv-proj/lib/python3.12/site-packages (from matplotlib->shap<=0.29.3,>=0.20.0->interpret-text) (10.3.0)\n",
      "Requirement already satisfied: pyparsing>=2.3.1 in /Users/celianouri/anaconda3/envs/cv-proj/lib/python3.12/site-packages (from matplotlib->shap<=0.29.3,>=0.20.0->interpret-text) (3.1.2)\n",
      "Requirement already satisfied: imageio>=2.33 in /Users/celianouri/anaconda3/envs/cv-proj/lib/python3.12/site-packages (from scikit-image->shap<=0.29.3,>=0.20.0->interpret-text) (2.34.2)\n",
      "Requirement already satisfied: tifffile>=2022.8.12 in /Users/celianouri/anaconda3/envs/cv-proj/lib/python3.12/site-packages (from scikit-image->shap<=0.29.3,>=0.20.0->interpret-text) (2024.7.2)\n",
      "Requirement already satisfied: lazy-loader>=0.4 in /Users/celianouri/anaconda3/envs/cv-proj/lib/python3.12/site-packages (from scikit-image->shap<=0.29.3,>=0.20.0->interpret-text) (0.4)\n",
      "Requirement already satisfied: mpmath<1.4.0,>=1.1.0 in /Users/celianouri/anaconda3/envs/cv-proj/lib/python3.12/site-packages (from sympy->torch->interpret-text) (1.3.0)\n",
      "Requirement already satisfied: parso<0.9.0,>=0.8.3 in /Users/celianouri/anaconda3/envs/cv-proj/lib/python3.12/site-packages (from jedi>=0.16->ipython->shap<=0.29.3,>=0.20.0->interpret-text) (0.8.4)\n",
      "Requirement already satisfied: marisa-trie>=0.7.7 in /Users/celianouri/anaconda3/envs/cv-proj/lib/python3.12/site-packages (from language-data>=1.2->langcodes<4.0.0,>=3.2.0->spacy->interpret-text) (1.2.0)\n",
      "Requirement already satisfied: ptyprocess>=0.5 in /Users/celianouri/anaconda3/envs/cv-proj/lib/python3.12/site-packages (from pexpect>4.3->ipython->shap<=0.29.3,>=0.20.0->interpret-text) (0.7.0)\n",
      "Requirement already satisfied: wcwidth in /Users/celianouri/anaconda3/envs/cv-proj/lib/python3.12/site-packages (from prompt-toolkit<3.1.0,>=3.0.41->ipython->shap<=0.29.3,>=0.20.0->interpret-text) (0.2.13)\n",
      "Requirement already satisfied: markdown-it-py>=2.2.0 in /Users/celianouri/anaconda3/envs/cv-proj/lib/python3.12/site-packages (from rich>=10.11.0->typer<1.0.0,>=0.3.0->spacy->interpret-text) (3.0.0)\n",
      "Requirement already satisfied: wrapt in /Users/celianouri/anaconda3/envs/cv-proj/lib/python3.12/site-packages (from smart-open<8.0.0,>=5.2.1->weasel<0.5.0,>=0.1.0->spacy->interpret-text) (1.16.0)\n",
      "Requirement already satisfied: executing>=1.2.0 in /Users/celianouri/anaconda3/envs/cv-proj/lib/python3.12/site-packages (from stack-data->ipython->shap<=0.29.3,>=0.20.0->interpret-text) (2.0.1)\n",
      "Requirement already satisfied: asttokens>=2.1.0 in /Users/celianouri/anaconda3/envs/cv-proj/lib/python3.12/site-packages (from stack-data->ipython->shap<=0.29.3,>=0.20.0->interpret-text) (2.4.1)\n",
      "Requirement already satisfied: pure-eval in /Users/celianouri/anaconda3/envs/cv-proj/lib/python3.12/site-packages (from stack-data->ipython->shap<=0.29.3,>=0.20.0->interpret-text) (0.2.2)\n",
      "Requirement already satisfied: mdurl~=0.1 in /Users/celianouri/anaconda3/envs/cv-proj/lib/python3.12/site-packages (from markdown-it-py>=2.2.0->rich>=10.11.0->typer<1.0.0,>=0.3.0->spacy->interpret-text) (0.1.2)\n",
      "\u001b[33mWARNING: Error parsing dependencies of free: Expected matching RIGHT_PARENTHESIS for LEFT_PARENTHESIS, after version specifier\n",
      "    django (>=1.11.0<1.12)\n",
      "           ~~~~~~~~~^\u001b[0m\u001b[33m\n",
      "\u001b[0m"
     ]
    }
   ],
   "source": [
    "!pip install interpret-text"
   ]
  },
  {
   "cell_type": "code",
   "execution_count": 9,
   "metadata": {},
   "outputs": [],
   "source": [
    "import transformers\n",
    "import torch\n",
    "import interpret_text\n"
   ]
  },
  {
   "cell_type": "code",
   "execution_count": 11,
   "metadata": {},
   "outputs": [
    {
     "name": "stderr",
     "output_type": "stream",
     "text": [
      "/Users/celianouri/anaconda3/envs/cv-proj/lib/python3.12/site-packages/pydantic/_internal/_fields.py:161: UserWarning: Field \"model_save_dir\" has conflict with protected namespace \"model_\".\n",
      "\n",
      "You may be able to resolve this warning by setting `model_config['protected_namespaces'] = ()`.\n",
      "  warnings.warn(\n",
      "/Users/celianouri/anaconda3/envs/cv-proj/lib/python3.12/site-packages/pydantic/_internal/_fields.py:161: UserWarning: Field \"model_prefix\" has conflict with protected namespace \"model_\".\n",
      "\n",
      "You may be able to resolve this warning by setting `model_config['protected_namespaces'] = ()`.\n",
      "  warnings.warn(\n",
      "/Users/celianouri/anaconda3/envs/cv-proj/lib/python3.12/site-packages/pydantic/_internal/_fields.py:161: UserWarning: Field \"model_folder_path\" has conflict with protected namespace \"model_\".\n",
      "\n",
      "You may be able to resolve this warning by setting `model_config['protected_namespaces'] = ()`.\n",
      "  warnings.warn(\n"
     ]
    }
   ],
   "source": [
    "from interpret_text.experimental.introspective_rationale import IntrospectiveRationaleExplainer\n",
    "from interpret_text.experimental.common.preprocessor.glove_preprocessor import GlovePreprocessor\n",
    "from interpret_text.experimental.common.preprocessor.bert_preprocessor import BertPreprocessor\n",
    "from interpret_text.experimental.common.model_config.introspective_rationale_model_config import IntrospectiveRationaleModelConfig\n",
    "from interpret_text.experimental.widget import ExplanationDashboard\n"
   ]
  },
  {
   "cell_type": "code",
   "execution_count": 15,
   "metadata": {},
   "outputs": [],
   "source": [
    "\n",
    "# if quick run true, skips over embedding, most of model training, and model evaluation; used to quickly test pipeline\n",
    "QUICK_RUN = True\n",
    "MODEL_TYPE = \"BERT\" # currently support either RNN, BERT, or a combination of RNN and BERT\n",
    "CUDA = False\n",
    "\n",
    "# data processing parameters\n",
    "DATA_FOLDER = \"../../../data/sst2\"\n",
    "LABEL_COL = \"labels\" \n",
    "TEXT_COL = \"sentences\"\n",
    "token_count_thresh = 1\n",
    "max_sentence_token_count = 70\n",
    "\n",
    "# load pretrained model \n",
    "load_pretrained_model = True\n",
    "pretrained_model_path = \"../models/checkpoints/20240701_150914_bert-class_small-1000.pt\""
   ]
  },
  {
   "cell_type": "code",
   "execution_count": 18,
   "metadata": {},
   "outputs": [
    {
     "data": {
      "application/vnd.jupyter.widget-view+json": {
       "model_id": "919d4ea235fc4fb8ac03e7733cc8d6d5",
       "version_major": 2,
       "version_minor": 0
      },
      "text/plain": [
       "Downloading:   0%|          | 0.00/433 [00:00<?, ?B/s]"
      ]
     },
     "metadata": {},
     "output_type": "display_data"
    },
    {
     "data": {
      "application/vnd.jupyter.widget-view+json": {
       "model_id": "0bafb9897a734bfdb09f9d16a6e022ac",
       "version_major": 2,
       "version_minor": 0
      },
      "text/plain": [
       "Downloading:   0%|          | 0.00/440M [00:00<?, ?B/s]"
      ]
     },
     "metadata": {},
     "output_type": "display_data"
    },
    {
     "ename": "TypeError",
     "evalue": "BertForSequenceClassification.__init__() got an unexpected keyword argument 'num_labels'",
     "output_type": "error",
     "traceback": [
      "\u001b[0;31m---------------------------------------------------------------------------\u001b[0m",
      "\u001b[0;31mTypeError\u001b[0m                                 Traceback (most recent call last)",
      "Cell \u001b[0;32mIn[18], line 4\u001b[0m\n\u001b[1;32m      1\u001b[0m \u001b[38;5;28;01mfrom\u001b[39;00m \u001b[38;5;21;01mtransformers\u001b[39;00m \u001b[38;5;28;01mimport\u001b[39;00m AutoConfig, AutoModelForSequenceClassification, AutoTokenizer\n\u001b[1;32m      3\u001b[0m \u001b[38;5;66;03m# Load the tokenizer\u001b[39;00m\n\u001b[0;32m----> 4\u001b[0m model \u001b[38;5;241m=\u001b[39m \u001b[43mAutoModelForSequenceClassification\u001b[49m\u001b[38;5;241;43m.\u001b[39;49m\u001b[43mfrom_pretrained\u001b[49m\u001b[43m(\u001b[49m\u001b[38;5;124;43m\"\u001b[39;49m\u001b[38;5;124;43mbert-base-uncased\u001b[39;49m\u001b[38;5;124;43m\"\u001b[39;49m\u001b[43m,\u001b[49m\u001b[43m \u001b[49m\u001b[43mnum_labels\u001b[49m\u001b[38;5;241;43m=\u001b[39;49m\u001b[38;5;241;43m2\u001b[39;49m\u001b[43m)\u001b[49m\n\u001b[1;32m      5\u001b[0m model\u001b[38;5;241m.\u001b[39mload_state_dict(torch\u001b[38;5;241m.\u001b[39mload(pretrained_model_path))\n",
      "File \u001b[0;32m~/anaconda3/envs/cv-proj/lib/python3.12/site-packages/transformers/modeling_auto.py:832\u001b[0m, in \u001b[0;36mAutoModelForSequenceClassification.from_pretrained\u001b[0;34m(cls, pretrained_model_name_or_path, *model_args, **kwargs)\u001b[0m\n\u001b[1;32m    830\u001b[0m \u001b[38;5;28;01mfor\u001b[39;00m config_class, model_class \u001b[38;5;129;01min\u001b[39;00m MODEL_FOR_SEQUENCE_CLASSIFICATION_MAPPING\u001b[38;5;241m.\u001b[39mitems():\n\u001b[1;32m    831\u001b[0m     \u001b[38;5;28;01mif\u001b[39;00m \u001b[38;5;28misinstance\u001b[39m(config, config_class):\n\u001b[0;32m--> 832\u001b[0m         \u001b[38;5;28;01mreturn\u001b[39;00m \u001b[43mmodel_class\u001b[49m\u001b[38;5;241;43m.\u001b[39;49m\u001b[43mfrom_pretrained\u001b[49m\u001b[43m(\u001b[49m\u001b[43mpretrained_model_name_or_path\u001b[49m\u001b[43m,\u001b[49m\u001b[43m \u001b[49m\u001b[38;5;241;43m*\u001b[39;49m\u001b[43mmodel_args\u001b[49m\u001b[43m,\u001b[49m\u001b[43m \u001b[49m\u001b[43mconfig\u001b[49m\u001b[38;5;241;43m=\u001b[39;49m\u001b[43mconfig\u001b[49m\u001b[43m,\u001b[49m\u001b[43m \u001b[49m\u001b[38;5;241;43m*\u001b[39;49m\u001b[38;5;241;43m*\u001b[39;49m\u001b[43mkwargs\u001b[49m\u001b[43m)\u001b[49m\n\u001b[1;32m    833\u001b[0m \u001b[38;5;28;01mraise\u001b[39;00m \u001b[38;5;167;01mValueError\u001b[39;00m(\n\u001b[1;32m    834\u001b[0m     \u001b[38;5;124m\"\u001b[39m\u001b[38;5;124mUnrecognized configuration class \u001b[39m\u001b[38;5;132;01m{}\u001b[39;00m\u001b[38;5;124m for this kind of AutoModel: \u001b[39m\u001b[38;5;132;01m{}\u001b[39;00m\u001b[38;5;124m.\u001b[39m\u001b[38;5;130;01m\\n\u001b[39;00m\u001b[38;5;124m\"\u001b[39m\n\u001b[1;32m    835\u001b[0m     \u001b[38;5;124m\"\u001b[39m\u001b[38;5;124mModel type should be one of \u001b[39m\u001b[38;5;132;01m{}\u001b[39;00m\u001b[38;5;124m.\u001b[39m\u001b[38;5;124m\"\u001b[39m\u001b[38;5;241m.\u001b[39mformat(\n\u001b[0;32m   (...)\u001b[0m\n\u001b[1;32m    839\u001b[0m     )\n\u001b[1;32m    840\u001b[0m )\n",
      "File \u001b[0;32m~/anaconda3/envs/cv-proj/lib/python3.12/site-packages/transformers/modeling_utils.py:463\u001b[0m, in \u001b[0;36mPreTrainedModel.from_pretrained\u001b[0;34m(cls, pretrained_model_name_or_path, *model_args, **kwargs)\u001b[0m\n\u001b[1;32m    460\u001b[0m     resolved_archive_file \u001b[38;5;241m=\u001b[39m \u001b[38;5;28;01mNone\u001b[39;00m\n\u001b[1;32m    462\u001b[0m \u001b[38;5;66;03m# Instantiate model.\u001b[39;00m\n\u001b[0;32m--> 463\u001b[0m model \u001b[38;5;241m=\u001b[39m \u001b[38;5;28;43mcls\u001b[39;49m\u001b[43m(\u001b[49m\u001b[43mconfig\u001b[49m\u001b[43m,\u001b[49m\u001b[43m \u001b[49m\u001b[38;5;241;43m*\u001b[39;49m\u001b[43mmodel_args\u001b[49m\u001b[43m,\u001b[49m\u001b[43m \u001b[49m\u001b[38;5;241;43m*\u001b[39;49m\u001b[38;5;241;43m*\u001b[39;49m\u001b[43mmodel_kwargs\u001b[49m\u001b[43m)\u001b[49m\n\u001b[1;32m    465\u001b[0m \u001b[38;5;28;01mif\u001b[39;00m state_dict \u001b[38;5;129;01mis\u001b[39;00m \u001b[38;5;28;01mNone\u001b[39;00m \u001b[38;5;129;01mand\u001b[39;00m \u001b[38;5;129;01mnot\u001b[39;00m from_tf:\n\u001b[1;32m    466\u001b[0m     \u001b[38;5;28;01mtry\u001b[39;00m:\n",
      "\u001b[0;31mTypeError\u001b[0m: BertForSequenceClassification.__init__() got an unexpected keyword argument 'num_labels'"
     ]
    }
   ],
   "source": [
    "from transformers import AutoConfig, AutoModelForSequenceClassification, AutoTokenizer\n",
    "\n",
    "# Load the tokenizer\n",
    "model = AutoModelForSequenceClassification.from_pretrained(\"bert-base-uncased\", num_labels=2)\n",
    "model.load_state_dict(torch.load(pretrained_model_path))"
   ]
  },
  {
   "cell_type": "code",
   "execution_count": null,
   "metadata": {},
   "outputs": [],
   "source": []
  }
 ],
 "metadata": {
  "kernelspec": {
   "display_name": "cv-proj",
   "language": "python",
   "name": "python3"
  },
  "language_info": {
   "codemirror_mode": {
    "name": "ipython",
    "version": 3
   },
   "file_extension": ".py",
   "mimetype": "text/x-python",
   "name": "python",
   "nbconvert_exporter": "python",
   "pygments_lexer": "ipython3",
   "version": "3.12.3"
  }
 },
 "nbformat": 4,
 "nbformat_minor": 2
}
